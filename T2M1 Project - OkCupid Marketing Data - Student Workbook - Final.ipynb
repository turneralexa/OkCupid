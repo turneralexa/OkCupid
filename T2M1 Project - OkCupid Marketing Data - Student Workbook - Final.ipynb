{
 "cells": [
  {
   "cell_type": "markdown",
   "metadata": {},
   "source": [
    "# OkCupid Marketing Project"
   ]
  },
  {
   "cell_type": "markdown",
   "metadata": {},
   "source": [
    "\n",
    "\n",
    "## <a name=\"bg\">0. Background</a>\n"
   ]
  },
  {
   "cell_type": "markdown",
   "metadata": {},
   "source": [
    "\n",
    "### <a name=\"intro\">Introduction to OkCupid</a>\n",
    "\n",
    "Online dating is a multi-billion dollar industry. The OkCupid userbase consists of more than 3.5 million active users. In aggregate, OkCupid's userbase has the most diverse demographics and data-rich profiles.\n",
    "\n",
    "The marketing department at OkCupid would like to better understand its customers and potential customers. This will help the company to:\n",
    "* measure user engagement (and engagements ;) )\n",
    "* create a baseline against which to evaluate the effectiveness of new marketing campaigns\n",
    "* make recommendations for new products or features\n",
    "\n",
    "You been engaged as a data analyst at OkCupid and assigned to investigate a sample of users collected in San Francisco to identify business development opportunities. This assignment includes pulling the data together using SQL, completing an exploratory data analysis in Python, and producing a report about your findings. \n",
    "\n",
    "\n",
    "### Email from your boss\n",
    "\n",
    "> Hi!\n",
    "\n",
    "> We’re expanding targeted ads for companies in San Francisco. The Chief Marketing Officer needs to present on Monday!! I need you to make this your top priority this week. \n",
    "\n",
    "> We’re on a really tight deadline for this project, so there are two key milestones:\n",
    "> * Wednesday at 6pm: Send me your SQL code and Python EDA in a Jupyter notebook. \n",
    "> * Thursday at 6pm: Send me your complete report. \n",
    "\n",
    "> Few other things:\n",
    "> * We’re only interested in data from 2016-2017. \n",
    "> * It looks like there are more men than women in San Francisco - that doesn't sound right. Can you take a deeper look into that?\n",
    "\n",
    "> Best,\n",
    "\n",
    "> Rachel Turner\n",
    "\n",
    "> Senior Data Analyst, OKCupid\n",
    "\n",
    "\n",
    "### Communication with your boss\n",
    "\n",
    "Your boss, Rachel, is here to help you. You haven't known Rachel very long, but you can reach out to her for clarification so you can continue making progress. You can reach out to Rachel via slack (@rachel) to ask questions. \n",
    "\n",
    "Check-in with Rachel at the beginning (9am) and end of your day (3pm) to let her know how things are going. She's the type of boss that likes to stay informed about things and will look to you for proactive upwards communication about how the analysis is coming along. Best practices for business communication apply, even on Slack!\n",
    "\n",
    "Rachel is happy to help you throughout the project but insists that you follow a specific protocol when reaching out for help. Be sure to have three pieces of information ready: 1) a screen capture of your code including the broken line of code and the last line of the error message, 2) a description of what your code should be doing, 3) a summary of or link to at least one solution from StackOverflow that you tried to use. ** Rachel will respond to any requests that don't include this information with a reminder to follow the protocol in order to get her help. **\n",
    "\n",
    "### Deliverables\n",
    "\n",
    "This Python notebook is designed to walk you through the steps of an end-to-end data analysis project. This can be completed within the Jupyter notebook itself with the accompanying SQLite database file. Note, the okcupid_sqlite.db file must be in the same folder as this notebook in order for you to use it within Jupyter.</a>.\n",
    "\n",
    "**By Wednesday at midnight**, please submit your Jupyter notebook linked in the Google Calendar event located [here](https://calendar.google.com/event?action=TEMPLATE&tmeid=OXZzYjJ0ZDFoajc4M2QwdWIwazBucWhyMTggbWlzc2lvbnUuY29tX2NmNHBmcWhvYjhzbWpmMWpqdWozanFldGQ4QGc&tmsrc=missionu.com_cf4pfqhob8smjf1jjuj3jqetd8%40group.calendar.google.com).</font>\n",
    "\n",
    "**By Friday at 9am**, please submit your final report in Google Slides to the link in the Google Calendar event located [here](https://calendar.google.com/event?action=TEMPLATE&tmeid=dGIwYmZub2pxbXFmYTY2dXA5OXRwNmxmazAgbWlzc2lvbnUuY29tX2NmNHBmcWhvYjhzbWpmMWpqdWozanFldGQ4QGc&tmsrc=missionu.com_cf4pfqhob8smjf1jjuj3jqetd8%40group.calendar.google.com).\n",
    "\n",
    "### Rubric (Grading)\n",
    "\n",
    "The project will be assessed out of **100 points.**\n",
    "\n",
    "* Documented code and questions are answered **10%**\n",
    "    - Thorough use of comments to explain any code\n",
    "    - Bolded questions in the markdown cells have been answered\n",
    "    \n",
    "    \n",
    "* Reproducible SQL / Python code **30%**\n",
    "    - The code works\n",
    "    - Proper use of joins in SQL to consolidate data into one table\n",
    "    - Use of Pandas for data manipulation\n",
    "    - Use of Seaborn, Matplotlib to render visualizations\n",
    "    \n",
    "    \n",
    "* Polished Report **30%**\n",
    "    - Visualization choices consistent with data and conclusions. \n",
    "    - Titles, legends, axes labels included\n",
    "    - Clear, succinct communication of insights\n",
    "    - Polished slides that utilize data visualization best practices\n",
    "    \n",
    "    \n",
    "* Professionalism **10%**\n",
    "    - Check-ins with Rachel on slack are timely (9am, 3pm for daily check-ins).\n",
    "    - Questions are well-researched \n",
    "    - Courteous communication\n",
    "    \n",
    "    \n",
    "* Timeliness **20%**\n",
    "    - Deadlines are met unless proactively and professionally communicated to Rachel."
   ]
  },
  {
   "cell_type": "markdown",
   "metadata": {},
   "source": [
    "## <a name=\"define\">1. Define the Project.</a>\n",
    "\n",
    "*Talk to your colleagues and reach out to Rachel if you have any clarifying questions!*\n",
    "\n",
    "** Question 1. What is the business question that we need to answer? **\n",
    "\n",
    "*YOUR ANSWER HERE.*\n",
    "\n",
    "** Question 2. What are the dependent variables of interest? How do these directly relate to business metrics? **\n",
    "\n",
    "*YOUR ANSWER HERE.*\n",
    "\n",
    "** Question 3. What are the independent variables which might influence those dependent variables? **\n",
    "\n",
    "*YOUR ANSWER HERE.*\n",
    "\n",
    "** Question 4. State three scientific hypotheses that you might test. **\n",
    "\n",
    "*1. YOUR ANSWER HERE.*\n",
    "\n",
    "*2. YOUR ANSWER HERE.*\n",
    "\n",
    "*3. YOUR ANSWER HERE.*\n"
   ]
  },
  {
   "cell_type": "markdown",
   "metadata": {},
   "source": [
    "## <a name=\"wrangle\">2. Wrangle the data.</a>\n",
    "\n",
    "It's time to dive into the data!\n",
    "\n",
    "The OkCupid data have been stored in different tables to conform to the forms of normalization (hint: can read up about normlization <a href=\"https://www.essentialsql.com/get-ready-to-learn-sql-database-normalization-explained-in-simple-english/\">here</a> if you want to get ahead for next module). *Note:* You do not need to understand normalization to complete this project.\n",
    "\n",
    "As you get into the data, you'll notice there are a number of foreign keys which link out to other tables. Your objective is to write SQL to create a single resulting that replaces the foreign keys with their corresponding values. You will also need to pull in any additional information from other tables by matching on the IDs. \n",
    "\n",
    "When it comes to our analysis, it will be easier if we can pull all of the information from the different tables into one single dataframe to be used for our analysis. You are equipped with the SQL skills you need to complete the task.\n",
    "\n",
    "**Your final SQL statement in the cell below should translate into a single Python DataFrame containing the data from all of the tables JOINED into a single table**. From that pandas DataFrame, you'll complete your exploratory data analysis and visualizations in your report. You must complete the SQL portion of the analysis BEFORE moving on to your EDA report.\n",
    "\n",
    "**Tips:**\n",
    "* *Optional/Stretch* You may find it helpful to create a relationship diagram of the various tables in the database to understand how they connect together. Although not required, a relationship diagram can help you think plan out your SQL query. in order to write the SQL to generate the single Python DataFrame.  [Here](https://www.jooq.org/img/sakila.png) is a link to the relationship diagram from a recent SQL assessment. [LucidChart](http://www.lucidchart/) is a great tool for creating these digrams.\n",
    "* Add your relationship diagram to your Google Slides report for full credit for the optional exercise.\n",
    "* Focus on mapping the primary and foreign keys instead of worring about every attribute in every table. In other words, focus on how the tables are connected.\n",
    "\n",
    "Sample SQL code featuring the demographics table has been included below. You can explore the data with SQL statements embedded in Pandas ([here](https://www.dataquest.io/blog/python-pandas-databases). You can also explore the tables using a database browser like [this](http://sqlitebrowser.org/) one.\n",
    "\n",
    "As you'll see in the code block below, the Pandas statements you need to read the SQLite database are given to you to help get things moving (the statements assume your database file is stored in the same file directory as your Jupyter notebook). You'll need to replace the simple statement below with your own SQL code.\n",
    "\n",
    "### Exercise 2.\n",
    "\n",
    "** Use SQL to combine the tables into a single table and translate that table into a single DataFrame named df. **.\n",
    "\n",
    "*The tables in the okcupid_sqlite.db include: *\n",
    "\n",
    "* height\n",
    "* status\n",
    "* smoker\n",
    "* orientation\n",
    "* other\n",
    "* education\n",
    "* drugs\n",
    "* drinks\n",
    "* diet\n",
    "* career\n",
    "* bodytype\n",
    "* demographic \n",
    "\n",
    "**(START BY RUNNING THE CELL BELOW)**"
   ]
  },
  {
   "cell_type": "code",
   "execution_count": null,
   "metadata": {},
   "outputs": [],
   "source": [
    "# These three statements will import all the necessary packages\n",
    "# and functions to work with our Sqlite database. \n",
    "# You can learn more about the features of\n",
    "# each of these libraries by googling 'Python <package_name> library' \n",
    "\n",
    "import sqlite3\n",
    "import pandas as pd\n",
    "\n",
    "# This statement will allow us to connect our Jupyter Notebook to our database.\n",
    "# The sqlite3 connect function expects the name of our database file as a \n",
    "# string as an input.\n",
    "\n",
    "database = \"okcupid_sqlite.db\"\n",
    "connection = sqlite3.connect(database)\n",
    "\n",
    "# You will only need to the modify the SQL string below to\n",
    "# produce the result requested in the description above. Get started by \n",
    "# running this cell to see how this code works and the resulting contents\n",
    "# of the demographic table.\n",
    "\n",
    "# REPLACE SELECT SQL STRING WITH YOUR QUERY.\n",
    "df_demographic = pd.read_sql_query(\"\"\"\n",
    "        SELECT *\n",
    "        FROM demographic d\n",
    "    \"\"\", connection)\n",
    "\n",
    "# PRINT OUT THE DATAFRAME TO SEE THE RESULTS OF YOUR QUERY.\n",
    "\n",
    "df_demographic"
   ]
  },
  {
   "cell_type": "markdown",
   "metadata": {},
   "source": [
    "## <a name=\"wrangle\">3. Explore the data in Python.</a>\n",
    "\n",
    "### Exercise 3. \n",
    "\n",
    "The goals for this exploratory data analysis include:\n",
    "* Check for “weird” things in the data:\n",
    "    * missing values (empty, null, N/A, - )\n",
    "    * errors\n",
    "    * outliers\n",
    "* Identify types of data and summarize data using statistics and appropriate measures of central tendency\n",
    "* Generate appropriate data visualizations\n",
    "\n",
    "**Exploratory data analysis - Step 1.** Check for “weird” things in the data\n",
    "\n",
    "In this section, we want to discover the number of observations (respondents), identify missing data, investigate whether their are errors in the data and understand if variables need to be recoded. "
   ]
  },
  {
   "cell_type": "code",
   "execution_count": null,
   "metadata": {
    "collapsed": true
   },
   "outputs": [],
   "source": [
    "# Import all the neccessary packages and functions. \n",
    "# You're going to need Pandas, Numpy, matplotlib and Seaborn\n",
    "# Include the matplotlib statement to set display settings as inline\n",
    "\n",
    "### ENTER YOUR CODE BELOW HERE\n"
   ]
  },
  {
   "cell_type": "code",
   "execution_count": null,
   "metadata": {
    "collapsed": true
   },
   "outputs": [],
   "source": [
    "# List the columns to be sure everything loaded into the \n",
    "# dataFrame correctly.\n",
    "\n",
    "### ENTER YOUR CODE BELOW HERE\n"
   ]
  },
  {
   "cell_type": "markdown",
   "metadata": {},
   "source": [
    "It is a good idea to check and make sure you imported the data correctly. One way to do this is to look at the head of each file. You can check to make sure that the data goes all the way to the last column, verify you have the correct number of columns and make sure you did not accidently import the same file twice."
   ]
  },
  {
   "cell_type": "code",
   "execution_count": null,
   "metadata": {
    "collapsed": true
   },
   "outputs": [],
   "source": [
    "# Look the data to reveal the first few lines of the dataframe.\n",
    "\n",
    "### ENTER YOUR CODE BELOW HERE\n"
   ]
  },
  {
   "cell_type": "code",
   "execution_count": null,
   "metadata": {
    "collapsed": true
   },
   "outputs": [],
   "source": [
    "# Look at the data types for all the columns in the DataFrame.\n",
    "\n",
    "### ENTER YOUR CODE BELOW HERE\n"
   ]
  },
  {
   "cell_type": "markdown",
   "metadata": {},
   "source": [
    "Are the data types correct? Think about what stats and visualizations you may want to generate. Are the data types compatible with the visualizations you want to generate?\n",
    "\n",
    "Pay special attention to those that are assigned the 'object' dtype. This is often the default data type when Pandas cannot easily assign another value."
   ]
  },
  {
   "cell_type": "code",
   "execution_count": null,
   "metadata": {
    "collapsed": true
   },
   "outputs": [],
   "source": [
    "# Reassign any variable types if needed. \n",
    "\n",
    "### EXAMPLE CODE\n",
    "df_demographic['sex'] = df_demographic['sex'].astype('category')\n",
    "### END EXAMPLE CODE\n",
    "\n",
    "### ENTER YOUR CODE BELOW HERE\n"
   ]
  },
  {
   "cell_type": "markdown",
   "metadata": {},
   "source": [
    "Are there any missing values (null/NaN) in your data? \n",
    "\n",
    "Should we drop the null values from our original DataFrame? \n",
    "\n",
    "Hint: If you drop the values from the DataFrame itself, then you lose the whole row that contains that value. Create a separate subset dataframe, then drop the null values from the child dataframe. This will be helpful to generate  plots without the 'nan' values getting in the way. "
   ]
  },
  {
   "cell_type": "code",
   "execution_count": null,
   "metadata": {
    "collapsed": true
   },
   "outputs": [],
   "source": [
    "# Create separate series or a subset DataFrame for specific columns, then\n",
    "# drop the null values.\n",
    "\n",
    "### EXAMPLE CODE\n",
    "subset = df_demographic[['sex', 'age' ]].dropna()\n",
    "### END EXAMPLE CODE\n",
    "\n",
    "### ENTER YOUR CODE BELOW HERE\n"
   ]
  },
  {
   "cell_type": "markdown",
   "metadata": {},
   "source": [
    "Are there any outliers?\n",
    "\n",
    "Use .describe() to assess missing values and look at the distribution/range of each variable. If you see a value like 9999 or something that looks out of place, it is a clue that your data may require some further cleaning.\n",
    "\n",
    "Does these numbers make sense?\n",
    "\n",
    "**Exploratory data analysis - Step 2.** Identify type of data and summarize using statistics and appropriate measures of central tendency."
   ]
  },
  {
   "cell_type": "code",
   "execution_count": null,
   "metadata": {
    "collapsed": true
   },
   "outputs": [],
   "source": [
    "# Look at the descriptive statistics to assess for outliers.\n",
    "\n",
    "### ENTER YOUR CODE BELOW HERE\n"
   ]
  },
  {
   "cell_type": "code",
   "execution_count": null,
   "metadata": {
    "collapsed": true
   },
   "outputs": [],
   "source": [
    "# Create a subset DataFrame which excludes any extreme outliers\n",
    "# for the columns you are interested in. \n",
    "\n",
    "### ENTER YOUR CODE BELOW HERE\n"
   ]
  },
  {
   "cell_type": "code",
   "execution_count": null,
   "metadata": {
    "collapsed": true
   },
   "outputs": [],
   "source": [
    "# Get the summary statistics for profiles\n",
    "# (outliers, null values excluded).\n",
    "\n",
    "### ENTER YOUR CODE BELOW HERE\n"
   ]
  },
  {
   "cell_type": "markdown",
   "metadata": {},
   "source": [
    "**Exploratory data analysis - Step 3** Generate appropriate data visualizations\n"
   ]
  },
  {
   "cell_type": "markdown",
   "metadata": {},
   "source": [
    "Descriptive statistics provide convenient values that summarize the tendencies and general shape of the data. However, a picture is worth a thousand words. Plot the distribution of a interval/ratio (numeric) data or countplot for nominal/ordinal (categorical) data. "
   ]
  },
  {
   "cell_type": "code",
   "execution_count": null,
   "metadata": {
    "collapsed": true
   },
   "outputs": [],
   "source": [
    "# Plot distributions for interval/ratio (numeric) data.\n",
    "\n",
    "### ENTER YOUR CODE BELOW HERE\n"
   ]
  },
  {
   "cell_type": "code",
   "execution_count": null,
   "metadata": {
    "collapsed": true
   },
   "outputs": [],
   "source": [
    "# Plot countplots for nominal/ordinal (categorical) data.\n",
    "\n",
    "### ENTER YOUR CODE BELOW HERE\n"
   ]
  },
  {
   "cell_type": "code",
   "execution_count": null,
   "metadata": {
    "collapsed": true
   },
   "outputs": [],
   "source": [
    "# Insert some bivariate visualizations to make some comparisons\n",
    "# to test your hypotheses. \n",
    "\n",
    "### ENTER YOUR CODE BELOW HERE\n"
   ]
  },
  {
   "cell_type": "markdown",
   "metadata": {},
   "source": [
    "## <a name=\"test\">4. Test your hypotheses in Python.</a>\n",
    "\n",
    "### Exercise 4\n",
    "\n",
    "Now that we have visualized and summarized the data, we want to think about how these data can inform the Marketing Department's future decisions. Ad buys are often done based on demographic segments, e.g. males 18-24, females 18-24, males 25-34, females 25-34, males 35-44, females 35-44, and everyone over age 45.\n",
    "\n",
    "** QUESTION 1. What market segments might the marketing department be interested in? What are our sample sizes for each of these markets? **\n",
    "\n",
    "*ANSWER HERE*\n",
    "\n",
    "** QUESTION 2. What do our measures of central tendency (i.e., descriptive statistics) tell us about each groups? Hint: what are the most common traits associated with each group? ** \n",
    "\n",
    "*ANSWER HERE*\n",
    "\n",
    "** QUESTION 3. What is the buy power of each group? Hint: look at income. ** \n",
    "\n",
    "*ANSWER HERE*\n",
    "\n",
    "** QUESTION 4. A company in San Francisco sells children's clothes. Would OKCupid be a good place to advertise? **\n",
    "\n",
    "*ANSWER HERE*\n",
    "\n",
    "** QUESTION 5. Use a t-test to determine whether there is a difference in mean incomes between men and women of the same age group (25 - 34). What is the p-value? What are the means and standard deviations of the incomes you compared? What can you conclude from these results? **\n",
    "\n",
    "*ANSWER HERE*\n"
   ]
  },
  {
   "cell_type": "code",
   "execution_count": null,
   "metadata": {
    "collapsed": true
   },
   "outputs": [],
   "source": [
    "# Run a t-test.\n"
   ]
  },
  {
   "cell_type": "markdown",
   "metadata": {},
   "source": [
    "** QUESTION 6 (Stretch/Optional): User engagement drives ad revenue. To make the biggest impact in your analysis, examine this  Which group has the highest engagement? Hint: use the 'datetime' data type. ** \n",
    "\n",
    "*ANSWER HERE*\n",
    "\n"
   ]
  },
  {
   "cell_type": "code",
   "execution_count": null,
   "metadata": {
    "collapsed": true
   },
   "outputs": [],
   "source": [
    "# Optional - insert user engagement code here.\n"
   ]
  },
  {
   "cell_type": "markdown",
   "metadata": {},
   "source": [
    "## <a name=\"communicate\">5. Communicate your findings.</a>\n",
    "\n",
    "<b>Exercise 5.</b>\n",
    "\n",
    "*Who is your intended audience?* Your report is going to Rachel, but it sounds like this is going to end up in the Chief Marketing Officer's hands. Assume that the CMO does not have a strong understanding of statistics, so you will need to share succinct explanations and translate those results into business insights that both the lay CMO and your data-savvy boss will understand.\n",
    "\n",
    "*What is the executive summary of your findings?* You should begin your report with 2-4 sentences that include the most actionable insights and your recommendations. The CMO is probably in back-to-back with meetings and doesn't have time to dig into the data or polish your presentation. \n",
    "\n",
    "*What are the key visualizations that summarize your results?* Descriptive statistics are very revealing to data-savvy analysts such as yourself. Most importantly, your visualizations should be polished and appropriately labeled. \n",
    "\n",
    "*What data support your findings?* Include one key point per slide. The title of each slide should be a statement, which clearly states the takeaway point of the slide. The visualization should stand alone to support the key takeaway. Add a few bullet points (no more than three) if needed to clarify.\n",
    "\n",
    "Hint: how can you make the demographic data interesting and useful for your higher-ups? Look back at your Design Thinking and marketing seminars from T1. Looking at the medians of your data to tell you something about your median user and build <a href=\"https://blog.bufferapp.com/marketing-personas-beginners-guide\">personas</a>."
   ]
  }
 ],
 "metadata": {
  "kernelspec": {
   "display_name": "Python 2",
   "language": "python",
   "name": "python2"
  },
  "language_info": {
   "codemirror_mode": {
    "name": "ipython",
    "version": 2
   },
   "file_extension": ".py",
   "mimetype": "text/x-python",
   "name": "python",
   "nbconvert_exporter": "python",
   "pygments_lexer": "ipython2",
   "version": "2.7.14"
  }
 },
 "nbformat": 4,
 "nbformat_minor": 2
}
